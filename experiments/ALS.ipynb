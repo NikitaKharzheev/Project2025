{
  "cells": [
    {
      "cell_type": "code",
      "execution_count": 1,
      "metadata": {
        "id": "FYxF3UDzwA6o"
      },
      "outputs": [],
      "source": [
        "!pip install -q pandas scikit-learn"
      ]
    },
    {
      "cell_type": "markdown",
      "metadata": {
        "id": "f8tQWuByna8F"
      },
      "source": [
        "## ALS"
      ]
    },
    {
      "cell_type": "code",
      "execution_count": null,
      "metadata": {
        "colab": {
          "base_uri": "https://localhost:8080/"
        },
        "id": "5jzHuFmtBwU5",
        "outputId": "19a31848-4b75-400d-d66c-dc2fbfcd045c"
      },
      "outputs": [],
      "source": [
        "!pip install implicit"
      ]
    },
    {
      "cell_type": "code",
      "execution_count": 3,
      "metadata": {
        "id": "xjP-KzbVBoot"
      },
      "outputs": [],
      "source": [
        "from scipy.sparse import csr_matrix\n",
        "from implicit.als import AlternatingLeastSquares\n",
        "from sklearn.preprocessing import LabelEncoder"
      ]
    },
    {
      "cell_type": "code",
      "execution_count": 4,
      "metadata": {
        "id": "biXd2ZIJCJQj"
      },
      "outputs": [],
      "source": [
        "import pandas as pd\n",
        "import numpy as np"
      ]
    },
    {
      "cell_type": "code",
      "execution_count": 6,
      "metadata": {
        "id": "ZxwSvraXB67A"
      },
      "outputs": [],
      "source": [
        "students = pd.read_json(\"hse_students_combined_50.json\").iloc[:20]\n",
        "projects = pd.read_json(\"hse_all_projects.json\").iloc[:20]\n",
        "matches = pd.read_json(\"student_project_manual_matching_top20.json\")"
      ]
    },
    {
      "cell_type": "code",
      "execution_count": 7,
      "metadata": {
        "id": "uELgH8D9CXPh"
      },
      "outputs": [],
      "source": [
        "# ПОЛОЖИТЕЛЬНЫЕ ВЗАИМОДЕЙСТВИЯ\n",
        "positive = []\n",
        "for _, row in matches.iterrows():\n",
        "    for proj in [row[\"1-й проект\"], row[\"2-й проект\"], row[\"3-й проект\"]]:\n",
        "        positive.append({\"user\": row[\"ФИО\"], \"item\": proj, \"rating\": 1})\n",
        "positive_df = pd.DataFrame(positive)\n",
        "\n",
        "# ОТРИЦАТЕЛЬНЫЙ СЭМПЛИНГ (НЕ ВХОДЯЩИЕ В TOP-3)\n",
        "all_projects = set(projects[\"Название проекта\"])\n",
        "negative = []\n",
        "\n",
        "for fio in matches[\"ФИО\"]:\n",
        "    liked = set(positive_df[positive_df[\"user\"] == fio][\"item\"])\n",
        "    disliked = list(all_projects - liked)\n",
        "    np.random.shuffle(disliked)\n",
        "    for proj in disliked[:5]:\n",
        "        negative.append({\"user\": fio, \"item\": proj, \"rating\": 0.01})  # слабый сигнал\n",
        "\n",
        "negative_df = pd.DataFrame(negative)\n",
        "\n",
        "# ОБЪЕДИНЕНИЕ И КОДИРОВАНИЕ\n",
        "ratings_df = pd.concat([positive_df, negative_df])"
      ]
    },
    {
      "cell_type": "code",
      "execution_count": 19,
      "metadata": {
        "id": "PLKKlbw3bC9W"
      },
      "outputs": [],
      "source": [
        "user_encoder = LabelEncoder()\n",
        "item_encoder = LabelEncoder()\n",
        "ratings_df[\"user_id\"] = user_encoder.fit_transform(ratings_df[\"user\"])\n",
        "ratings_df[\"item_id\"] = item_encoder.fit_transform(ratings_df[\"item\"])"
      ]
    },
    {
      "cell_type": "code",
      "execution_count": 20,
      "metadata": {
        "id": "6Sdwv122dGom"
      },
      "outputs": [],
      "source": [
        "ratings_df = ratings_df[\n",
        "    ratings_df[\"user\"].isin(user_encoder.classes_) &\n",
        "    ratings_df[\"item\"].isin(item_encoder.classes_)\n",
        "]"
      ]
    },
    {
      "cell_type": "code",
      "execution_count": 21,
      "metadata": {
        "id": "xPoHIKvObSZw"
      },
      "outputs": [],
      "source": [
        "# СОЗДАНИЕ РАЗРЕЖЕННОЙ МАТРИЦЫ (item × user)\n",
        "item_user_matrix = csr_matrix((\n",
        "    ratings_df[\"rating\"].values,\n",
        "    (ratings_df[\"item_id\"], ratings_df[\"user_id\"])\n",
        "))"
      ]
    },
    {
      "cell_type": "code",
      "execution_count": 22,
      "metadata": {
        "colab": {
          "base_uri": "https://localhost:8080/"
        },
        "id": "UpqYBxtYbpBE",
        "outputId": "932116b4-ee5e-4c1d-ccfd-83957504507e"
      },
      "outputs": [
        {
          "data": {
            "text/plain": [
              "<Compressed Sparse Row sparse matrix of dtype 'float64'\n",
              "\twith 160 stored elements and shape (28, 20)>"
            ]
          },
          "execution_count": 22,
          "metadata": {},
          "output_type": "execute_result"
        }
      ],
      "source": [
        "item_user_matrix"
      ]
    },
    {
      "cell_type": "code",
      "execution_count": null,
      "metadata": {
        "colab": {
          "base_uri": "https://localhost:8080/",
          "height": 49,
          "referenced_widgets": [
            "674afc3260cd4d1189b0cd51d53ec92a",
            "d4e884678e734893802f256d99431342",
            "951848fa0f724152a7b7b15774c07557",
            "d59dba4257114e7ca6cfe06d79d14175",
            "2c35722730ee4ab4a0a4d767782b81cd",
            "5e12e6413611412f9e176564a07462f4",
            "6ca3c4945b8b444aac6c3741e33ea588",
            "e856bd73c7244d219a73bc1a74b4a1f0",
            "61d55031af5940afb7e07d01fa856897",
            "f99512f220504c1784cd277e42f075c0",
            "77aa43a246534332a260487df8a9a224"
          ]
        },
        "id": "4xOOlV_2bWFu",
        "outputId": "abb12bfe-a789-488d-e523-98b2a2c8579a"
      },
      "outputs": [],
      "source": [
        "# ОБУЧЕНИЕ ALS\n",
        "als = AlternatingLeastSquares(factors=20, iterations=30, regularization=0.1)\n",
        "als.fit(item_user_matrix)"
      ]
    },
    {
      "cell_type": "code",
      "execution_count": 24,
      "metadata": {
        "id": "-32wGi3YbX_l"
      },
      "outputs": [],
      "source": [
        "# ПОЛУЧАЕМ TOP-3 ДЛЯ КАЖДОГО СТУДЕНТА\n",
        "user_ids = ratings_df[\"user_id\"].unique()\n",
        "recommendations = {}"
      ]
    },
    {
      "cell_type": "code",
      "execution_count": 25,
      "metadata": {
        "colab": {
          "base_uri": "https://localhost:8080/"
        },
        "id": "M4ZFLpkYbujQ",
        "outputId": "1d3f1bb0-3e53-4be5-d1bd-1a8ac50fac51"
      },
      "outputs": [
        {
          "data": {
            "text/plain": [
              "array([ 8, 17,  9, 11, 15,  0, 19, 18,  7,  3, 14,  1, 16,  4,  5,  6,  2,\n",
              "       13, 10, 12])"
            ]
          },
          "execution_count": 25,
          "metadata": {},
          "output_type": "execute_result"
        }
      ],
      "source": [
        "user_ids"
      ]
    },
    {
      "cell_type": "code",
      "execution_count": 27,
      "metadata": {
        "id": "pfiyU6v7djeT"
      },
      "outputs": [],
      "source": [
        "recs = als.recommend(8, item_user_matrix.T, N=3, filter_already_liked_items=False)"
      ]
    },
    {
      "cell_type": "code",
      "execution_count": 28,
      "metadata": {
        "colab": {
          "base_uri": "https://localhost:8080/"
        },
        "id": "sRhGNsARdk37",
        "outputId": "194b0525-1427-4ba8-c65a-56292af7bda3"
      },
      "outputs": [
        {
          "data": {
            "text/plain": [
              "(array([ 5,  8, 12], dtype=int32),\n",
              " array([0.9552345 , 0.94230616, 0.47327745], dtype=float32))"
            ]
          },
          "execution_count": 28,
          "metadata": {},
          "output_type": "execute_result"
        }
      ],
      "source": [
        "recs"
      ]
    },
    {
      "cell_type": "code",
      "execution_count": 29,
      "metadata": {
        "id": "rMi_1ROXba0i"
      },
      "outputs": [],
      "source": [
        "for uid in user_ids:\n",
        "    recs = als.recommend(uid, item_user_matrix.T, N=3, filter_already_liked_items=False)\n",
        "    student = user_encoder.inverse_transform([uid])[0]\n",
        "    projects_pred = item_encoder.inverse_transform([rec for rec in recs[0]])\n",
        "    recommendations[student] = list(projects_pred)"
      ]
    },
    {
      "cell_type": "code",
      "execution_count": 31,
      "metadata": {
        "id": "jdx-70_sdskv"
      },
      "outputs": [],
      "source": [
        "def precision_at_3(top_n, matches_df):\n",
        "    correct = 0\n",
        "    total = 0\n",
        "    for _, row in matches_df.iterrows():\n",
        "        gt = [row[\"1-й проект\"], row[\"2-й проект\"], row[\"3-й проект\"]]\n",
        "        pred = top_n.get(row[\"ФИО\"], [])\n",
        "        correct += int(any(p in gt for p in pred))\n",
        "        total += 1\n",
        "    return correct / total"
      ]
    },
    {
      "cell_type": "code",
      "execution_count": 32,
      "metadata": {
        "colab": {
          "base_uri": "https://localhost:8080/"
        },
        "id": "GNubQytOd59K",
        "outputId": "15ee03dc-3313-467c-a1cf-27a41b52c24c"
      },
      "outputs": [
        {
          "name": "stdout",
          "output_type": "stream",
          "text": [
            "\n",
            " Precision@3 (ALS implicit): 0.45\n"
          ]
        }
      ],
      "source": [
        "p3 = precision_at_3(recommendations, matches)\n",
        "print(f\"\\n Precision@3 (ALS implicit): {p3:.2f}\")"
      ]
    }
  ],
  "metadata": {
    "colab": {
      "provenance": []
    },
    "kernelspec": {
      "display_name": "Python 3",
      "name": "python3"
    },
    "language_info": {
      "name": "python"
    },
    "widgets": {
      "application/vnd.jupyter.widget-state+json": {
        "2c35722730ee4ab4a0a4d767782b81cd": {
          "model_module": "@jupyter-widgets/base",
          "model_module_version": "1.2.0",
          "model_name": "LayoutModel",
          "state": {
            "_model_module": "@jupyter-widgets/base",
            "_model_module_version": "1.2.0",
            "_model_name": "LayoutModel",
            "_view_count": null,
            "_view_module": "@jupyter-widgets/base",
            "_view_module_version": "1.2.0",
            "_view_name": "LayoutView",
            "align_content": null,
            "align_items": null,
            "align_self": null,
            "border": null,
            "bottom": null,
            "display": null,
            "flex": null,
            "flex_flow": null,
            "grid_area": null,
            "grid_auto_columns": null,
            "grid_auto_flow": null,
            "grid_auto_rows": null,
            "grid_column": null,
            "grid_gap": null,
            "grid_row": null,
            "grid_template_areas": null,
            "grid_template_columns": null,
            "grid_template_rows": null,
            "height": null,
            "justify_content": null,
            "justify_items": null,
            "left": null,
            "margin": null,
            "max_height": null,
            "max_width": null,
            "min_height": null,
            "min_width": null,
            "object_fit": null,
            "object_position": null,
            "order": null,
            "overflow": null,
            "overflow_x": null,
            "overflow_y": null,
            "padding": null,
            "right": null,
            "top": null,
            "visibility": null,
            "width": null
          }
        },
        "5e12e6413611412f9e176564a07462f4": {
          "model_module": "@jupyter-widgets/base",
          "model_module_version": "1.2.0",
          "model_name": "LayoutModel",
          "state": {
            "_model_module": "@jupyter-widgets/base",
            "_model_module_version": "1.2.0",
            "_model_name": "LayoutModel",
            "_view_count": null,
            "_view_module": "@jupyter-widgets/base",
            "_view_module_version": "1.2.0",
            "_view_name": "LayoutView",
            "align_content": null,
            "align_items": null,
            "align_self": null,
            "border": null,
            "bottom": null,
            "display": null,
            "flex": null,
            "flex_flow": null,
            "grid_area": null,
            "grid_auto_columns": null,
            "grid_auto_flow": null,
            "grid_auto_rows": null,
            "grid_column": null,
            "grid_gap": null,
            "grid_row": null,
            "grid_template_areas": null,
            "grid_template_columns": null,
            "grid_template_rows": null,
            "height": null,
            "justify_content": null,
            "justify_items": null,
            "left": null,
            "margin": null,
            "max_height": null,
            "max_width": null,
            "min_height": null,
            "min_width": null,
            "object_fit": null,
            "object_position": null,
            "order": null,
            "overflow": null,
            "overflow_x": null,
            "overflow_y": null,
            "padding": null,
            "right": null,
            "top": null,
            "visibility": null,
            "width": null
          }
        },
        "61d55031af5940afb7e07d01fa856897": {
          "model_module": "@jupyter-widgets/controls",
          "model_module_version": "1.5.0",
          "model_name": "ProgressStyleModel",
          "state": {
            "_model_module": "@jupyter-widgets/controls",
            "_model_module_version": "1.5.0",
            "_model_name": "ProgressStyleModel",
            "_view_count": null,
            "_view_module": "@jupyter-widgets/base",
            "_view_module_version": "1.2.0",
            "_view_name": "StyleView",
            "bar_color": null,
            "description_width": ""
          }
        },
        "674afc3260cd4d1189b0cd51d53ec92a": {
          "model_module": "@jupyter-widgets/controls",
          "model_module_version": "1.5.0",
          "model_name": "HBoxModel",
          "state": {
            "_dom_classes": [],
            "_model_module": "@jupyter-widgets/controls",
            "_model_module_version": "1.5.0",
            "_model_name": "HBoxModel",
            "_view_count": null,
            "_view_module": "@jupyter-widgets/controls",
            "_view_module_version": "1.5.0",
            "_view_name": "HBoxView",
            "box_style": "",
            "children": [
              "IPY_MODEL_d4e884678e734893802f256d99431342",
              "IPY_MODEL_951848fa0f724152a7b7b15774c07557",
              "IPY_MODEL_d59dba4257114e7ca6cfe06d79d14175"
            ],
            "layout": "IPY_MODEL_2c35722730ee4ab4a0a4d767782b81cd"
          }
        },
        "6ca3c4945b8b444aac6c3741e33ea588": {
          "model_module": "@jupyter-widgets/controls",
          "model_module_version": "1.5.0",
          "model_name": "DescriptionStyleModel",
          "state": {
            "_model_module": "@jupyter-widgets/controls",
            "_model_module_version": "1.5.0",
            "_model_name": "DescriptionStyleModel",
            "_view_count": null,
            "_view_module": "@jupyter-widgets/base",
            "_view_module_version": "1.2.0",
            "_view_name": "StyleView",
            "description_width": ""
          }
        },
        "77aa43a246534332a260487df8a9a224": {
          "model_module": "@jupyter-widgets/controls",
          "model_module_version": "1.5.0",
          "model_name": "DescriptionStyleModel",
          "state": {
            "_model_module": "@jupyter-widgets/controls",
            "_model_module_version": "1.5.0",
            "_model_name": "DescriptionStyleModel",
            "_view_count": null,
            "_view_module": "@jupyter-widgets/base",
            "_view_module_version": "1.2.0",
            "_view_name": "StyleView",
            "description_width": ""
          }
        },
        "951848fa0f724152a7b7b15774c07557": {
          "model_module": "@jupyter-widgets/controls",
          "model_module_version": "1.5.0",
          "model_name": "FloatProgressModel",
          "state": {
            "_dom_classes": [],
            "_model_module": "@jupyter-widgets/controls",
            "_model_module_version": "1.5.0",
            "_model_name": "FloatProgressModel",
            "_view_count": null,
            "_view_module": "@jupyter-widgets/controls",
            "_view_module_version": "1.5.0",
            "_view_name": "ProgressView",
            "bar_style": "success",
            "description": "",
            "description_tooltip": null,
            "layout": "IPY_MODEL_e856bd73c7244d219a73bc1a74b4a1f0",
            "max": 30,
            "min": 0,
            "orientation": "horizontal",
            "style": "IPY_MODEL_61d55031af5940afb7e07d01fa856897",
            "value": 30
          }
        },
        "d4e884678e734893802f256d99431342": {
          "model_module": "@jupyter-widgets/controls",
          "model_module_version": "1.5.0",
          "model_name": "HTMLModel",
          "state": {
            "_dom_classes": [],
            "_model_module": "@jupyter-widgets/controls",
            "_model_module_version": "1.5.0",
            "_model_name": "HTMLModel",
            "_view_count": null,
            "_view_module": "@jupyter-widgets/controls",
            "_view_module_version": "1.5.0",
            "_view_name": "HTMLView",
            "description": "",
            "description_tooltip": null,
            "layout": "IPY_MODEL_5e12e6413611412f9e176564a07462f4",
            "placeholder": "​",
            "style": "IPY_MODEL_6ca3c4945b8b444aac6c3741e33ea588",
            "value": "100%"
          }
        },
        "d59dba4257114e7ca6cfe06d79d14175": {
          "model_module": "@jupyter-widgets/controls",
          "model_module_version": "1.5.0",
          "model_name": "HTMLModel",
          "state": {
            "_dom_classes": [],
            "_model_module": "@jupyter-widgets/controls",
            "_model_module_version": "1.5.0",
            "_model_name": "HTMLModel",
            "_view_count": null,
            "_view_module": "@jupyter-widgets/controls",
            "_view_module_version": "1.5.0",
            "_view_name": "HTMLView",
            "description": "",
            "description_tooltip": null,
            "layout": "IPY_MODEL_f99512f220504c1784cd277e42f075c0",
            "placeholder": "​",
            "style": "IPY_MODEL_77aa43a246534332a260487df8a9a224",
            "value": " 30/30 [00:00&lt;00:00, 1080.73it/s]"
          }
        },
        "e856bd73c7244d219a73bc1a74b4a1f0": {
          "model_module": "@jupyter-widgets/base",
          "model_module_version": "1.2.0",
          "model_name": "LayoutModel",
          "state": {
            "_model_module": "@jupyter-widgets/base",
            "_model_module_version": "1.2.0",
            "_model_name": "LayoutModel",
            "_view_count": null,
            "_view_module": "@jupyter-widgets/base",
            "_view_module_version": "1.2.0",
            "_view_name": "LayoutView",
            "align_content": null,
            "align_items": null,
            "align_self": null,
            "border": null,
            "bottom": null,
            "display": null,
            "flex": null,
            "flex_flow": null,
            "grid_area": null,
            "grid_auto_columns": null,
            "grid_auto_flow": null,
            "grid_auto_rows": null,
            "grid_column": null,
            "grid_gap": null,
            "grid_row": null,
            "grid_template_areas": null,
            "grid_template_columns": null,
            "grid_template_rows": null,
            "height": null,
            "justify_content": null,
            "justify_items": null,
            "left": null,
            "margin": null,
            "max_height": null,
            "max_width": null,
            "min_height": null,
            "min_width": null,
            "object_fit": null,
            "object_position": null,
            "order": null,
            "overflow": null,
            "overflow_x": null,
            "overflow_y": null,
            "padding": null,
            "right": null,
            "top": null,
            "visibility": null,
            "width": null
          }
        },
        "f99512f220504c1784cd277e42f075c0": {
          "model_module": "@jupyter-widgets/base",
          "model_module_version": "1.2.0",
          "model_name": "LayoutModel",
          "state": {
            "_model_module": "@jupyter-widgets/base",
            "_model_module_version": "1.2.0",
            "_model_name": "LayoutModel",
            "_view_count": null,
            "_view_module": "@jupyter-widgets/base",
            "_view_module_version": "1.2.0",
            "_view_name": "LayoutView",
            "align_content": null,
            "align_items": null,
            "align_self": null,
            "border": null,
            "bottom": null,
            "display": null,
            "flex": null,
            "flex_flow": null,
            "grid_area": null,
            "grid_auto_columns": null,
            "grid_auto_flow": null,
            "grid_auto_rows": null,
            "grid_column": null,
            "grid_gap": null,
            "grid_row": null,
            "grid_template_areas": null,
            "grid_template_columns": null,
            "grid_template_rows": null,
            "height": null,
            "justify_content": null,
            "justify_items": null,
            "left": null,
            "margin": null,
            "max_height": null,
            "max_width": null,
            "min_height": null,
            "min_width": null,
            "object_fit": null,
            "object_position": null,
            "order": null,
            "overflow": null,
            "overflow_x": null,
            "overflow_y": null,
            "padding": null,
            "right": null,
            "top": null,
            "visibility": null,
            "width": null
          }
        }
      }
    }
  },
  "nbformat": 4,
  "nbformat_minor": 0
}
