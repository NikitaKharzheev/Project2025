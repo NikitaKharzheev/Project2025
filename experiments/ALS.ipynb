{
  "nbformat": 4,
  "nbformat_minor": 0,
  "metadata": {
    "colab": {
      "provenance": []
    },
    "kernelspec": {
      "name": "python3",
      "display_name": "Python 3"
    },
    "language_info": {
      "name": "python"
    }
  },
  "cells": [
    {
      "cell_type": "code",
      "execution_count": null,
      "metadata": {
        "id": "FYxF3UDzwA6o"
      },
      "outputs": [],
      "source": [
        "!pip install -q pandas scikit-learn"
      ]
    },
    {
      "cell_type": "markdown",
      "source": [
        "## ALS"
      ],
      "metadata": {
        "id": "f8tQWuByna8F"
      }
    },
    {
      "cell_type": "code",
      "source": [
        "!pip install implicit"
      ],
      "metadata": {
        "id": "5jzHuFmtBwU5"
      },
      "execution_count": null,
      "outputs": []
    },
    {
      "cell_type": "code",
      "source": [
        "from scipy.sparse import csr_matrix\n",
        "from implicit.als import AlternatingLeastSquares\n",
        "from sklearn.preprocessing import LabelEncoder"
      ],
      "metadata": {
        "id": "xjP-KzbVBoot"
      },
      "execution_count": null,
      "outputs": []
    },
    {
      "cell_type": "code",
      "source": [
        "import pandas as pd\n",
        "import numpy as np"
      ],
      "metadata": {
        "id": "biXd2ZIJCJQj"
      },
      "execution_count": null,
      "outputs": []
    },
    {
      "cell_type": "code",
      "source": [
        "students = pd.read_json(\"hse_students_combined_50.json\").iloc[:20]\n",
        "projects = pd.read_json(\"hse_all_projects.json\").iloc[:20]\n",
        "matches = pd.read_json(\"student_project_manual_matching_top20.json\")"
      ],
      "metadata": {
        "id": "ZxwSvraXB67A"
      },
      "execution_count": null,
      "outputs": []
    },
    {
      "cell_type": "code",
      "source": [
        "# ПОЛОЖИТЕЛЬНЫЕ ВЗАИМОДЕЙСТВИЯ\n",
        "positive = []\n",
        "for _, row in matches.iterrows():\n",
        "    for proj in [row[\"1-й проект\"], row[\"2-й проект\"], row[\"3-й проект\"]]:\n",
        "        positive.append({\"user\": row[\"ФИО\"], \"item\": proj, \"rating\": 1})\n",
        "positive_df = pd.DataFrame(positive)\n",
        "\n",
        "# ОТРИЦАТЕЛЬНЫЙ СЭМПЛИНГ (НЕ ВХОДЯЩИЕ В TOP-3)\n",
        "all_projects = set(projects[\"Название проекта\"])\n",
        "negative = []\n",
        "\n",
        "for fio in matches[\"ФИО\"]:\n",
        "    liked = set(positive_df[positive_df[\"user\"] == fio][\"item\"])\n",
        "    disliked = list(all_projects - liked)\n",
        "    np.random.shuffle(disliked)\n",
        "    for proj in disliked[:5]:\n",
        "        negative.append({\"user\": fio, \"item\": proj, \"rating\": 0.01})  # слабый сигнал\n",
        "\n",
        "negative_df = pd.DataFrame(negative)\n",
        "\n",
        "# ОБЪЕДИНЕНИЕ И КОДИРОВАНИЕ\n",
        "ratings_df = pd.concat([positive_df, negative_df])"
      ],
      "metadata": {
        "id": "uELgH8D9CXPh"
      },
      "execution_count": null,
      "outputs": []
    },
    {
      "cell_type": "code",
      "source": [
        "user_encoder = LabelEncoder()\n",
        "item_encoder = LabelEncoder()\n",
        "ratings_df[\"user_id\"] = user_encoder.fit_transform(ratings_df[\"user\"])\n",
        "ratings_df[\"item_id\"] = item_encoder.fit_transform(ratings_df[\"item\"])"
      ],
      "metadata": {
        "id": "PLKKlbw3bC9W"
      },
      "execution_count": null,
      "outputs": []
    },
    {
      "cell_type": "code",
      "source": [
        "ratings_df = ratings_df[\n",
        "    ratings_df[\"user\"].isin(user_encoder.classes_) &\n",
        "    ratings_df[\"item\"].isin(item_encoder.classes_)\n",
        "]"
      ],
      "metadata": {
        "id": "6Sdwv122dGom"
      },
      "execution_count": null,
      "outputs": []
    },
    {
      "cell_type": "code",
      "source": [
        "# СОЗДАНИЕ РАЗРЕЖЕННОЙ МАТРИЦЫ (item × user)\n",
        "item_user_matrix = csr_matrix((\n",
        "    ratings_df[\"rating\"].values,\n",
        "    (ratings_df[\"item_id\"], ratings_df[\"user_id\"])\n",
        "))"
      ],
      "metadata": {
        "id": "xPoHIKvObSZw"
      },
      "execution_count": null,
      "outputs": []
    },
    {
      "cell_type": "code",
      "source": [
        "item_user_matrix"
      ],
      "metadata": {
        "id": "UpqYBxtYbpBE"
      },
      "execution_count": null,
      "outputs": []
    },
    {
      "cell_type": "code",
      "source": [
        "# ОБУЧЕНИЕ ALS\n",
        "als = AlternatingLeastSquares(factors=20, iterations=30, regularization=0.1)\n",
        "als.fit(item_user_matrix)"
      ],
      "metadata": {
        "id": "4xOOlV_2bWFu"
      },
      "execution_count": null,
      "outputs": []
    },
    {
      "cell_type": "code",
      "source": [
        "# ПОЛУЧАЕМ TOP-3 ДЛЯ КАЖДОГО СТУДЕНТА\n",
        "user_ids = ratings_df[\"user_id\"].unique()\n",
        "recommendations = {}"
      ],
      "metadata": {
        "id": "-32wGi3YbX_l"
      },
      "execution_count": null,
      "outputs": []
    },
    {
      "cell_type": "code",
      "source": [
        "user_ids"
      ],
      "metadata": {
        "id": "M4ZFLpkYbujQ"
      },
      "execution_count": null,
      "outputs": []
    },
    {
      "cell_type": "code",
      "source": [
        "recs = als.recommend(8, item_user_matrix.T, N=3, filter_already_liked_items=False)"
      ],
      "metadata": {
        "id": "pfiyU6v7djeT"
      },
      "execution_count": null,
      "outputs": []
    },
    {
      "cell_type": "code",
      "source": [
        "recs"
      ],
      "metadata": {
        "colab": {
          "base_uri": "https://localhost:8080/"
        },
        "id": "sRhGNsARdk37",
        "outputId": "5f68671c-6677-41df-e759-a7b0fae88623"
      },
      "execution_count": 20,
      "outputs": [
        {
          "output_type": "execute_result",
          "data": {
            "text/plain": [
              "(array([13, 14, 19], dtype=int32),\n",
              " array([0.9635471 , 0.9616766 , 0.95573145], dtype=float32))"
            ]
          },
          "metadata": {},
          "execution_count": 20
        }
      ]
    },
    {
      "cell_type": "code",
      "source": [
        "for uid in user_ids:\n",
        "    recs = als.recommend(uid, item_user_matrix.T, N=3, filter_already_liked_items=False)\n",
        "    student = user_encoder.inverse_transform([uid])[0]\n",
        "    projects_pred = item_encoder.inverse_transform([rec for rec in recs[0]])\n",
        "    recommendations[student] = list(projects_pred)"
      ],
      "metadata": {
        "id": "rMi_1ROXba0i"
      },
      "execution_count": null,
      "outputs": []
    },
    {
      "cell_type": "code",
      "source": [
        "def precision_at_3(top_n, matches_df):\n",
        "    correct = 0\n",
        "    total = 0\n",
        "    for _, row in matches_df.iterrows():\n",
        "        gt = [row[\"1-й проект\"], row[\"2-й проект\"], row[\"3-й проект\"]]\n",
        "        pred = top_n.get(row[\"ФИО\"], [])\n",
        "        correct += int(any(p in gt for p in pred))\n",
        "        total += 1\n",
        "    return correct / total"
      ],
      "metadata": {
        "id": "jdx-70_sdskv"
      },
      "execution_count": null,
      "outputs": []
    },
    {
      "cell_type": "code",
      "source": [
        "p3 = precision_at_3(recommendations, matches)\n",
        "print(f\"\\n Precision@3 (ALS implicit): {p3:.2f}\")"
      ],
      "metadata": {
        "colab": {
          "base_uri": "https://localhost:8080/"
        },
        "id": "GNubQytOd59K",
        "outputId": "1bcb48df-cbaf-4c73-8a9d-c7b039b14fdb"
      },
      "execution_count": 21,
      "outputs": [
        {
          "output_type": "stream",
          "name": "stdout",
          "text": [
            "\n",
            " Precision@3 (ALS implicit): 0.45\n"
          ]
        }
      ]
    }
  ]
}